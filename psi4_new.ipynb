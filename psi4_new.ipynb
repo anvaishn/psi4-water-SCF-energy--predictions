{
  "nbformat": 4,
  "nbformat_minor": 0,
  "metadata": {
    "colab": {
      "provenance": []
    },
    "kernelspec": {
      "name": "python3",
      "display_name": "Python 3"
    },
    "language_info": {
      "name": "python"
    }
  },
  "cells": [
    {
      "cell_type": "code",
      "execution_count": null,
      "metadata": {
        "colab": {
          "base_uri": "https://localhost:8080/"
        },
        "id": "7y6ED7lr6K9h",
        "outputId": "5e7830d1-f84f-4f42-e0c0-16d574c73678"
      },
      "outputs": [
        {
          "output_type": "stream",
          "name": "stdout",
          "text": [
          ]
        }
      ],
      "source": [
        "#conda setup\n",
        "! wget -c https://repo.continuum.io/miniconda/Miniconda3-latest-Linux-x86_64.sh \n",
        "! chmod +x Miniconda3-latest-Linux-x86_64.sh \n",
        "! bash ./Miniconda3-latest-Linux-x86_64.sh -b -f -p /usr/local \n",
        "! conda install -q -y -c psi4 psi4 python=3.8"
      ]
    },
    {
      "cell_type": "code",
      "source": [
        "import sys"
      ],
      "metadata": {
        "id": "p9RVp3f67CjD"
      },
      "execution_count": null,
      "outputs": []
    },
    {
      "cell_type": "code",
      "source": [
        "#conda wale packages kahan install hue he\n",
        "! python -c \"import site; print (site.getsitepackages())\""
      ],
      "metadata": {
        "colab": {
          "base_uri": "https://localhost:8080/"
        },
        "id": "E0eXm-9G7FlV",
        "outputId": "4fb34ea7-1d92-41f6-9e94-ecc3abc98e14"
      },
      "execution_count": null,
      "outputs": [
        {
          "output_type": "stream",
          "name": "stdout",
          "text": [
            "['/usr/local/lib/python3.8/site-packages']\n"
          ]
        }
      ]
    },
    {
      "cell_type": "code",
      "source": [
        "print(sys.path)\n",
        "sys.path.append('/usr/local/lib/python3.8/site-packages')"
      ],
      "metadata": {
        "colab": {
          "base_uri": "https://localhost:8080/"
        },
        "id": "pbItZWMn7Lyq",
        "outputId": "a4ed75eb-ab80-44e6-c75e-ad43a135b01f"
      },
      "execution_count": null,
      "outputs": [
        {
          "output_type": "stream",
          "name": "stdout",
          "text": [
            "['/content', '/env/python', '/usr/lib/python38.zip', '/usr/lib/python3.8', '/usr/lib/python3.8/lib-dynload', '', '/usr/local/lib/python3.8/dist-packages', '/usr/lib/python3/dist-packages', '/usr/local/lib/python3.8/dist-packages/IPython/extensions', '/root/.ipython']\n"
          ]
        }
      ]
    },
    {
      "cell_type": "code",
      "source": [
        "print(sys.path)"
      ],
      "metadata": {
        "colab": {
          "base_uri": "https://localhost:8080/"
        },
        "id": "62Ioh_oT7hAE",
        "outputId": "14938b60-9ec6-4a86-e5e6-332f9f232c47"
      },
      "execution_count": null,
      "outputs": [
        {
          "output_type": "stream",
          "name": "stdout",
          "text": [
            "['/content', '/env/python', '/usr/lib/python38.zip', '/usr/lib/python3.8', '/usr/lib/python3.8/lib-dynload', '', '/usr/local/lib/python3.8/dist-packages', '/usr/lib/python3/dist-packages', '/usr/local/lib/python3.8/dist-packages/IPython/extensions', '/root/.ipython', '/usr/local/lib/python3.8/site-packages']\n"
          ]
        }
      ]
    },
    {
      "cell_type": "code",
      "source": [
        "import psi4\n",
        "psi4.__version__"
      ],
      "metadata": {
        "colab": {
          "base_uri": "https://localhost:8080/",
          "height": 35
        },
        "id": "KOH9GTFZ7q0K",
        "outputId": "d4c9a1b7-1998-40f2-9588-02a3fa306d7e"
      },
      "execution_count": null,
      "outputs": [
        {
          "output_type": "execute_result",
          "data": {
            "text/plain": [
              "'1.7'"
            ],
            "application/vnd.google.colaboratory.intrinsic+json": {
              "type": "string"
            }
          },
          "metadata": {},
          "execution_count": 8
        }
      ]
    },
    {
      "cell_type": "markdown",
      "source": [
        "How do you represent a molecule ! using the psi4 to run the symmetric stretch of H2O, 0.5-2 A, increament of 0.05, so a total of 31 geometries\n",
        "f(x) = transpose(x)*w x-> representational vector, input . w-> some weight whole point of regression is to find weight that maps x to energy(f(x)). y = f(x)+e e-> noise"
      ],
      "metadata": {
        "id": "jKJs7dlu8PuA"
      }
    },
    {
      "cell_type": "code",
      "source": [
        "#set basis\n",
        "psi4.set_options({'basis':'sto-3g'})\n",
        "#initialise geometry list\n",
        "geoms = []\n",
        "#charge list\n",
        "qs = []\n",
        "#initial energy list\n",
        "Es = []\n",
        "#bond length\n",
        "rs = []\n",
        "\n",
        "for j in range(0,31):\n",
        "  rs.append(0.5 + j*0.05)\n",
        "for i in rs:\n",
        "  #generate a water molecule using Z-matrix and set the O-H bond length\n",
        "  mol = psi4.geometry(\"\"\"\n",
        "  O\n",
        "  H 1 \"\"\" + str(i) + \"\"\"\n",
        "  H 1 \"\"\" + str(i) + \"\"\" 2 104.5\n",
        "  \"\"\")\n",
        "\n",
        "  #save geometry\n",
        "  geoms.append(mol.geometry().to_array())\n",
        "  #save charges for all three atoms\n",
        "  q = []\n",
        "  for k in range(0,3):\n",
        "    q.append(mol.fZ(k))\n",
        "\n",
        "  qs.append(q)\n",
        "  #calculate and save energy\n",
        "  Es.append(psi4.energy('scf'))"
      ],
      "metadata": {
        "id": "Vzu3yiQO7zKN"
      },
      "execution_count": null,
      "outputs": []
    },
    {
      "cell_type": "markdown",
      "source": [
        "In the next cell, the charge and energy as the length of O-H bonds change is plotted as a slice of PES"
      ],
      "metadata": {
        "id": "fDbsEgQW8VXB"
      }
    },
    {
      "cell_type": "code",
      "source": [
        "from sklearn.linear_model import LinearRegression\n",
        "from sklearn.kernel_ridge import KernelRidge\n",
        "from sklearn.model_selection import GridSearchCV\n",
        "import numpy as np\n",
        "import pandas as pd\n",
        "import matplotlib.pyplot as plt\n",
        "#plot the original surface\n",
        "plt.plot(rs, list(Es))\n",
        "plt.title(\"H2O H-F symmetric stretch\")\n",
        "plt.xlabel(\"r/A\")\n",
        "plt.ylabel(\"E/Eh\")\n",
        "plt.show()"
      ],
      "metadata": {
        "colab": {
          "base_uri": "https://localhost:8080/",
          "height": 295
        },
        "id": "PFIy-F0q8Ap6",
        "outputId": "18db4ba9-a4a7-4ff0-e18b-2c0c5b2ac12a"
      },
      "execution_count": null,
      "outputs": [
        {
          "output_type": "display_data",
          "data": {
            "text/plain": [
              "<Figure size 432x288 with 1 Axes>"
            ],
            "image/png": "[encoded data removed]"
          },
          "metadata": {
            "needs_background": "light"
          }
        }
      ]
    },
    {
      "cell_type": "markdown",
      "source": [
        "We want to describe every bond in the molecule. TO do this we encode the geometry of molecule into a matrix using distance between atoms rij, resultant matrix is coulomb matrix. To differentiate between O-H and H-H we use the atomic charge in the formula Cij = ZiZj/rij for i!=j Cij = 0.5*(Zi)^2.4 for i==j"
      ],
      "metadata": {
        "id": "YpVm_uu-8YMx"
      }
    },
    {
      "cell_type": "code",
      "source": [
        "#building coulomb matrix\n",
        "def coulomb(geom,q):\n",
        "  '''\n",
        "  Generates the coulomb matrix given geometry and list of atomic charges\n",
        "  Parameters: \n",
        "  geom: list of lists of atomic coordinates [[xi,yi,zi],[xj,yj,zj]...]\n",
        "  q: list of atomic charges\n",
        "  '''\n",
        "  natom = len(q)\n",
        "  cm = np.zeros((natom,natom))\n",
        "\n",
        "  for i in range(0,natom):\n",
        "    for j in range(0,natom):\n",
        "      if i==j:\n",
        "        cm[i][j]=q[i]**2.4/2\n",
        "      else:\n",
        "        cm[i][j] = q[i]*q[j]/np.linalg.norm(geom[i]-geom[j])\n",
        "\n",
        "  return cm\n",
        "\n",
        "#generating coluomb matrix for all geometries and store them in list\n",
        "couls=[]\n",
        "for i in range(0,len(geoms)):\n",
        "  coul=coulomb(geoms[i], qs[i])\n",
        "  couls.append(coul)\n"
      ],
      "metadata": {
        "id": "xE9MQyJU8aS3"
      },
      "execution_count": null,
      "outputs": []
    },
    {
      "cell_type": "code",
      "source": [
        "print(couls[0])"
      ],
      "metadata": {
        "colab": {
          "base_uri": "https://localhost:8080/"
        },
        "id": "KMo6sw6L-QI7",
        "outputId": "1d740c3e-ac04-45f1-f323-a6a40bc08aa3"
      },
      "execution_count": null,
      "outputs": [
        {
          "output_type": "stream",
          "name": "stdout",
          "text": [
            "[[73.51669472  8.46683537  8.46683537]\n",
            " [ 8.46683537  0.5         0.66926039]\n",
            " [ 8.46683537  0.66926039  0.5       ]]\n"
          ]
        }
      ]
    },
    {
      "cell_type": "markdown",
      "source": [],
      "metadata": {
        "id": "1o63_2Du-8nP"
      }
    },
    {
      "cell_type": "code",
      "source": [
        "trainers = [0,7,15,23] # we have 31 geometries so out of those 31, we are selecting 4 geometries here, the 0th, 7th...\n",
        "X_train=[]\n",
        "y_train=[]\n",
        "for t in trainers:\n",
        "  X_train.append(couls[t].flatten())\n",
        "  y_train.append(Es[t])\n",
        "\n",
        "testers=[]\n",
        "for i in range(0,31):\n",
        "  testers.append(i)\n",
        "for t in sorted(trainers, reverse=True):\n",
        " del testers[t]\n",
        "\n",
        "X_test = []\n",
        "y_test = []\n",
        "for t in testers:\n",
        "  X_test.append(couls[t].flatten())\n",
        "  y_test.append(Es[t])\n",
        "\n",
        "reg = LinearRegression().fit(X_train, y_train)\n",
        "y_preds = reg.predict(X_test)\n"
      ],
      "metadata": {
        "id": "7ZLpVpSI_E1O"
      },
      "execution_count": null,
      "outputs": []
    },
    {
      "cell_type": "code",
      "source": [
        "plt.plot(rs,list(Es),label='Truth')\n",
        "plt.plot(np.asarray(rs)[testers], y_preds, label='ML')\n",
        "plt.legend()\n",
        "plt.xlabel('r/A')\n",
        "plt.ylabel('E/Eh')\n",
        "plt.show()"
      ],
      "metadata": {
        "colab": {
          "base_uri": "https://localhost:8080/",
          "height": 279
        },
        "id": "4CjraHgCBDP8",
        "outputId": "f75e01a3-09f8-4844-a9b0-2dba623abc36"
      },
      "execution_count": null,
      "outputs": [
        {
          "output_type": "display_data",
          "data": {
            "text/plain": [
              "<Figure size 432x288 with 1 Axes>"
            ],
            "image/png": "[encoded data removed]"
          },
          "metadata": {
            "needs_background": "light"
          }
        }
      ]
    },
    {
      "cell_type": "code",
      "source": [
        "#kernal ridge regression\n",
        "krr = KernelRidge(kernel='rbf')\n",
        "parameters={'alpha': np.logspace(-12,12,num=12),\n",
        "            'gamma': np.logspace(-12,12,num=12)}\n",
        "krr_regressor = GridSearchCV(krr, parameters, cv=4, scoring='neg_mean_squared_error')\n",
        "krr_regressor.fit(X_train, y_train)\n",
        "y_pred = krr_regressor.predict(X_test)\n"
      ],
      "metadata": {
        "id": "tu2KBzbNFcr_"
      },
      "execution_count": null,
      "outputs": []
    },
    {
      "cell_type": "code",
      "source": [
        "plt.plot(rs,list(Es),label='Truth')\n",
        "plt.plot(np.asarray(rs)[testers], y_pred, label='ML')\n",
        "\n",
        "ax = plt.gca()\n",
        "axin = ax.inset_axes([0.25,0.4,0.4,0.4])\n",
        "axin.plot(rs,list(Es))\n",
        "axin.plot(np.asarray(rs)[testers], y_pred)\n",
        "axin.set_xlim([0.9,1.1])\n",
        "axin.set_ylim([-74.965, -74.94])\n",
        "axin.set_alpha(0)\n",
        "ax.indicate_inset_zoom(axin,label='_nolegend_')\n",
        "\n",
        "plt.legend()\n",
        "plt.xlabel('r/A')\n",
        "plt.ylabel('E/Eh')\n",
        "plt.show()\n"
      ],
      "metadata": {
        "colab": {
          "base_uri": "https://localhost:8080/",
          "height": 279
        },
        "id": "Nd_qIXyKGlvu",
        "outputId": "015b124c-70da-4dfb-fd18-abdaa98d50c7"
      },
      "execution_count": null,
      "outputs": [
        {
          "output_type": "display_data",
          "data": {
            "text/plain": [
              "<Figure size 432x288 with 1 Axes>"
            ],
            "image/png": "[encoded data removed]"
          },
          "metadata": {
            "needs_background": "light"
          }
        }
      ]
    },
    {
      "cell_type": "code",
      "source": [
        "psi4.set_options({'basis':'sto-3g'})\n",
        "#initialise geometry list\n",
        "geoms = []\n",
        "#charge list\n",
        "qs = []\n",
        "#bond length\n",
        "rs = []\n",
        "\n",
        "for j in range(0,16):\n",
        "  rs.append(0.5 + j*0.1)\n",
        "\n",
        "Es = np.zeros((len(rs),len(rs)))\n",
        "\n",
        "for i in range(0,len(rs)):\n",
        "  for j in range(0,len(rs)):\n",
        "    #generate a water molecule using Z-matrix and set the O-H bond length\n",
        "    mol = psi4.geometry(\"\"\"\n",
        "    O\n",
        "    H 1 \"\"\" + str(rs[i]) + \"\"\"\n",
        "    H 1 \"\"\" + str(rs[j]) + \"\"\" 2 104.5\n",
        "    symmetry c1\n",
        "    \"\"\")\n",
        "\n",
        "    #save geometry\n",
        "    geoms.append(mol.geometry().to_array())\n",
        "    #save charges for all three atoms\n",
        "    q = []\n",
        "    for k in range(mol.natom()):\n",
        "      q.append(mol.fZ(k))\n",
        "\n",
        "    qs.append(q)\n",
        "    #calculate and save energy\n",
        "    Es[i][j]= psi4.energy('scf')"
      ],
      "metadata": {
        "id": "rHT7ZQ6MIU6_"
      },
      "execution_count": null,
      "outputs": []
    },
    {
      "cell_type": "code",
      "source": [
        "print(np.max(Es))\n",
        "print(np.min(Es))"
      ],
      "metadata": {
        "colab": {
          "base_uri": "https://localhost:8080/"
        },
        "id": "PIzftjXjKaIa",
        "outputId": "5aefa3b2-8f94-4f11-cbf6-3074b4b3c5c0"
      },
      "execution_count": null,
      "outputs": [
        {
          "output_type": "stream",
          "name": "stdout",
          "text": [
            "-73.12426354983927\n",
            "-74.9647517220917\n"
          ]
        }
      ]
    },
    {
      "cell_type": "code",
      "source": [
        "fig,ax=plt.subplots(1,1)\n",
        "cp = ax.contourf(rs,rs,(Es-np.min(Es)))\n",
        "cbar = fig.colorbar(cp,label='(E-Emin)/Eh')\n",
        "ax.set_title('H2O Hypersurface')\n",
        "ax.set_xlabel('r/A')\n",
        "ax.set_ylabel('r/A')\n",
        "plt.show()"
      ],
      "metadata": {
        "colab": {
          "base_uri": "https://localhost:8080/",
          "height": 295
        },
        "id": "_b99JjVLK7__",
        "outputId": "a26e6cd5-08ec-4eeb-c592-154adc38534b"
      },
      "execution_count": null,
      "outputs": [
        {
          "output_type": "display_data",
          "data": {
            "text/plain": [
              "<Figure size 432x288 with 2 Axes>"
            ],
            "image/png": "[encoded data removed]"
          },
          "metadata": {
            "needs_background": "light"
          }
        }
      ]
    }
  ]
}
